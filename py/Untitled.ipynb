{
 "cells": [
  {
   "cell_type": "code",
   "execution_count": 1,
   "metadata": {},
   "outputs": [
    {
     "name": "stdout",
     "output_type": "stream",
     "text": [
      "<Element 'rss' at 0x1071a5e08>\n"
     ]
    }
   ],
   "source": [
    "import xml.etree.ElementTree as ET\n",
    "tree = ET.parse('../wordpress.2012-06-26.xml')\n",
    "root = tree.getroot()\n",
    "\n",
    "print(root)"
   ]
  },
  {
   "cell_type": "code",
   "execution_count": 67,
   "metadata": {
    "scrolled": false
   },
   "outputs": [
    {
     "name": "stdout",
     "output_type": "stream",
     "text": [
      "<li dir=\"rtl\"><a href=\"html_posts/post_2010-02-24.html\">None</a></li>\n",
      "<li dir=\"rtl\"><a href=\"html_posts/post_2012-06-12.html\">טיוטה משמירה אוטומטית</a></li>\n",
      "<li dir=\"rtl\"><a href=\"html_posts/post_2010-01-10.html\">אודות</a></li>\n",
      "<li dir=\"rtl\"><a href=\"html_posts/post_2010-01-10.html\">מתוך האלצהיימר צומחת אהבה</a></li>\n",
      "<li dir=\"rtl\"><a href=\"html_posts/post_2010-01-10.html\">לא להישאר לבד בהתמודדות עם האלצהיימר </a></li>\n",
      "<li dir=\"rtl\"><a href=\"html_posts/post_2010-01-12.html\">האם ניתן לזהות את מחלת האלצהיימר שנים רבות לפני האבחון הרפואי? </a></li>\n",
      "<li dir=\"rtl\"><a href=\"html_posts/post_2010-01-29.html\">למה בישראל עדיין לא מכירים ברצונותיו ורגשותיו של חולה האלצהיימר?</a></li>\n",
      "<li dir=\"rtl\"><a href=\"html_posts/post_2010-01-30.html\">חולה אלצהיימר, סולחים לך </a></li>\n",
      "<li dir=\"rtl\"><a href=\"html_posts/post_2010-02-04.html\">משפחות חולי האלצהיימר – אל תתפרקו!</a></li>\n",
      "<li dir=\"rtl\"><a href=\"html_posts/post_2010-02-09.html\">על גורל ונקודת המפגש עם האלצהיימר</a></li>\n",
      "<li dir=\"rtl\"><a href=\"html_posts/post_2010-02-16.html\">צמיחה משפחתית בצל האלצהיימר</a></li>\n",
      "<li dir=\"rtl\"><a href=\"html_posts/post_2010-02-22.html\">מה בין מחלת האלצהיימר ליצירתיות?</a></li>\n",
      "<li dir=\"rtl\"><a href=\"html_posts/post_2010-02-27.html\">צמיחה משפחתית בצל האלצהיימר</a></li>\n",
      "<li dir=\"rtl\"><a href=\"html_posts/post_2010-03-03.html\">החיים יפים גם לצד האלצהיימר</a></li>\n",
      "<li dir=\"rtl\"><a href=\"html_posts/post_2010-03-08.html\">שפתם של חולי האלצהיימר</a></li>\n",
      "<li dir=\"rtl\"><a href=\"html_posts/post_2010-03-16.html\">מה עושים כשחולה אלצהיימר משתמש בחוסר אחריות בכספו?</a></li>\n",
      "<li dir=\"rtl\"><a href=\"html_posts/post_2010-03-22.html\">אל תתנו למוח שלכם לנוח!</a></li>\n",
      "<li dir=\"rtl\"><a href=\"html_posts/post_2010-03-29.html\">איך מתמודדות משפחות שונות עם האלצהיימר?</a></li>\n",
      "<li dir=\"rtl\"><a href=\"html_posts/post_2010-04-08.html\">הסוג הקשה ביותר של הדמנציה </a></li>\n",
      "<li dir=\"rtl\"><a href=\"html_posts/post_2010-04-13.html\">משפחה מסוכסכת פוגעת בחולה האלצהיימר </a></li>\n",
      "<li dir=\"rtl\"><a href=\"html_posts/post_2010-04-19.html\">איך חיים נכון לצד האלצהיימר? </a></li>\n",
      "<li dir=\"rtl\"><a href=\"html_posts/post_2010-04-28.html\">למה חשובה הדרכה למשפחות של חולי אלצהיימר?</a></li>\n",
      "<li dir=\"rtl\"><a href=\"html_posts/post_2010-05-03.html\">איך אפשר לתקשר עם חולי אלצהיימר או דמנציה?</a></li>\n",
      "<li dir=\"rtl\"><a href=\"html_posts/post_2010-05-10.html\">חולי אלצהיימר: \"רוצים לחזור הביתה\"</a></li>\n",
      "<li dir=\"rtl\"><a href=\"html_posts/post_2010-05-17.html\">על הקשר בין תנועה לדמנציה</a></li>\n",
      "<li dir=\"rtl\"><a href=\"html_posts/post_2010-05-25.html\">עצרו וחשבו לפני אשפוז חולה אלצהיימר במוסד</a></li>\n",
      "<li dir=\"rtl\"><a href=\"html_posts/post_2010-05-31.html\">חולי אלצהיימר זקוקים למגע </a></li>\n",
      "<li dir=\"rtl\"><a href=\"html_posts/post_2010-06-08.html\">באיזה שלב על משפחה לחולה אלצהיימר לקבל הדרכה מקצועית?   </a></li>\n",
      "<li dir=\"rtl\"><a href=\"html_posts/post_2010-06-14.html\">על התעתוע במחלת האלצהיימר</a></li>\n",
      "<li dir=\"rtl\"><a href=\"html_posts/post_2010-06-20.html\">איזה רופא מתאים ביותר לטיפול בחולה אלצהיימר?</a></li>\n",
      "<li dir=\"rtl\"><a href=\"html_posts/post_2010-06-28.html\">מה קורה כשהאלצהיימר שועט במהירות קדימה?  </a></li>\n",
      "<li dir=\"rtl\"><a href=\"html_posts/post_2010-07-05.html\">לזרום עם האלצהיימר</a></li>\n",
      "<li dir=\"rtl\"><a href=\"html_posts/post_2010-07-12.html\">הערך המוסף של מחלת האלצהיימר</a></li>\n",
      "<li dir=\"rtl\"><a href=\"html_posts/post_2010-07-19.html\">כוחה של אהבה באלצהיימר</a></li>\n",
      "<li dir=\"rtl\"><a href=\"html_posts/post_2010-07-26.html\">מי מרים ידיים מראש בטיפול בחולי אלצהיימר?</a></li>\n",
      "<li dir=\"rtl\"><a href=\"html_posts/post_2010-08-02.html\">מה קורה לחולה אלצהיימר שאינו יכול להתלונן על כאבים?</a></li>\n",
      "<li dir=\"rtl\"><a href=\"html_posts/post_2010-08-09.html\">מי לוקח אחריות על ניהול מחלתו של חולה האלצהיימר?</a></li>\n",
      "<li dir=\"rtl\"><a href=\"html_posts/post_2010-08-16.html\">שאלות אתיות במחלת האלצהיימר</a></li>\n",
      "<li dir=\"rtl\"><a href=\"html_posts/post_2010-08-23.html\">בעיות שינה במחלת האלצהיימר</a></li>\n",
      "<li dir=\"rtl\"><a href=\"html_posts/post_2010-08-31.html\">מדוע חשוב למנות אפוטרופוס לניהול האלצהיימר?</a></li>\n",
      "<li dir=\"rtl\"><a href=\"html_posts/post_2010-09-07.html\">האם השכלה ולימוד מונעים את האלצהיימר?</a></li>\n",
      "<li dir=\"rtl\"><a href=\"html_posts/post_2010-09-13.html\">במה מתעניין חולה אלצהיימר?</a></li>\n",
      "<li dir=\"rtl\"><a href=\"html_posts/post_2010-09-21.html\">איך להקל על חולה אלצהיימר בתקופת החגים?</a></li>\n",
      "<li dir=\"rtl\"><a href=\"html_posts/post_2010-09-28.html\">המשפחה בראי האלצהיימר </a></li>\n",
      "<li dir=\"rtl\"><a href=\"html_posts/post_2010-10-04.html\">מחוות חסד אחרונות לחולה באלצהיימר</a></li>\n",
      "<li dir=\"rtl\"><a href=\"html_posts/post_2010-10-12.html\">חייהם האישיים של המטפלים בחולי אלצהיימר </a></li>\n",
      "<li dir=\"rtl\"><a href=\"html_posts/post_2010-10-19.html\">מין ואלצהיימר</a></li>\n",
      "<li dir=\"rtl\"><a href=\"html_posts/post_2010-10-26.html\">התנהגויות מיניות באלצהיימר</a></li>\n",
      "<li dir=\"rtl\"><a href=\"html_posts/post_2010-11-02.html\">מתנת האלצהיימר</a></li>\n",
      "<li dir=\"rtl\"><a href=\"html_posts/post_2010-11-09.html\">סימפטומים ראשונים לזיהוי מחלת האלצהיימר</a></li>\n",
      "<li dir=\"rtl\"><a href=\"html_posts/post_2010-11-15.html\">האלצהיימר כמאתגר מערכות יחסים משפחתיות  </a></li>\n",
      "<li dir=\"rtl\"><a href=\"html_posts/post_2010-11-23.html\">מה אסור למטפל בחולה אלצהיימר לשכוח?</a></li>\n",
      "<li dir=\"rtl\"><a href=\"html_posts/post_2010-11-30.html\">דילמת הזוגיות באלצהיימר</a></li>\n",
      "<li dir=\"rtl\"><a href=\"html_posts/post_2010-12-07.html\">על ההבדלים בין שיכחה נורמטיבית לאלצהיימר</a></li>\n",
      "<li dir=\"rtl\"><a href=\"html_posts/post_2010-12-14.html\">מה מעיק על ילדיהם של חולי האלצהיימר?</a></li>\n",
      "<li dir=\"rtl\"><a href=\"html_posts/post_2010-12-21.html\">מחקר חדש ולידתה של תקווה לטיפול באלצהיימר</a></li>\n",
      "<li dir=\"rtl\"><a href=\"html_posts/post_2010-12-29.html\">על אלצהיימר ויחסים בין אם לבנותיה </a></li>\n",
      "<li dir=\"rtl\"><a href=\"html_posts/post_2011-01-04.html\">האם לאשפז חולה אלצהיימר במוסד טיפולי? </a></li>\n",
      "<li dir=\"rtl\"><a href=\"html_posts/post_2011-12-13.html\">תיקון משפחתי בעקבות מחלת האלצהיימר</a></li>\n",
      "<li dir=\"rtl\"><a href=\"html_posts/post_2012-05-25.html\">מדוע המחקר המתפתח בתחום האלצהיימר אינו משפיע על גישת משפחות החולים?</a></li>\n",
      "<li dir=\"rtl\"><a href=\"html_posts/post_2012-06-12.html\">מחקר: טיפול קרובי המשפחה בחולה אלצהיימר מיטיב עימו ומצמצם הוצאות ב-29%</a></li>\n"
     ]
    }
   ],
   "source": [
    "\n",
    "for item in root.findall('./channel/item'):\n",
    "    \n",
    "    \"\"\"\n",
    "    print(item.find('{http://wordpress.org/export/1.0/}post_date').text)\n",
    "    print(item.find('title').text)\n",
    "    print(item.find('{http://purl.org/rss/1.0/modules/content/}encoded').text)\n",
    "    print('-'*50)\n",
    "    print()\n",
    "    \"\"\"\n",
    "    \n",
    "    date = item.find('{http://wordpress.org/export/1.0/}post_date').text\n",
    "    ds = datetime.strptime(date.split(' ')[0], '%Y-%m-%d')\n",
    "    time = date.split(' ')[1]\n",
    "    \n",
    "    fstr = f'post_{ds.year:04d}-{ds.month:02d}-{ds.day:02d}-{time}.html'\n",
    "    \n",
    "    title_html = f\"\"\"\n",
    "    <h1 style=\"text-align: right; direction: rtl\">{item.find('title').text}</h1>\n",
    "    \"\"\"\n",
    "    \n",
    "    body_html = f\"\"\"<div style=\"text-align: right; direction: rtl\">\n",
    "    {item.find('{http://purl.org/rss/1.0/modules/content/}encoded').text}\n",
    "    </div>\n",
    "    \"\"\"\n",
    "    css_html = \"\"\"\n",
    "    <style type='text/css'>\n",
    "        text-direction: rtl;\n",
    "        text-align: right; \n",
    "    </style>\n",
    "    \"\"\"\n",
    "    \n",
    "    \n",
    "    with open(f\"../html_posts/{fstr}\", 'w') as otp:\n",
    "        otp.write(css_html)\n",
    "        otp.write(title_html)\n",
    "        otp.write(body_html)\n",
    "    \n",
    "#     break\n",
    "\n",
    "    \n",
    "    # -- print html layout\n",
    "    htmlstr = f\"\"\"<li dir=\"rtl\"><a href=\"html_posts/{fstr}\">{item.find('title').text}</a></li>\"\"\"\n",
    "    print(htmlstr)\n"
   ]
  },
  {
   "cell_type": "code",
   "execution_count": null,
   "metadata": {},
   "outputs": [],
   "source": []
  },
  {
   "cell_type": "code",
   "execution_count": null,
   "metadata": {},
   "outputs": [],
   "source": []
  }
 ],
 "metadata": {
  "kernelspec": {
   "display_name": "Python 3",
   "language": "python",
   "name": "python3"
  },
  "language_info": {
   "codemirror_mode": {
    "name": "ipython",
    "version": 3
   },
   "file_extension": ".py",
   "mimetype": "text/x-python",
   "name": "python",
   "nbconvert_exporter": "python",
   "pygments_lexer": "ipython3",
   "version": "3.6.5"
  }
 },
 "nbformat": 4,
 "nbformat_minor": 2
}
